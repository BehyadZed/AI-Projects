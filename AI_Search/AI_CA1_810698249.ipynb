{
 "cells": [
  {
   "cell_type": "markdown",
   "metadata": {},
   "source": [
    "<div style=\"direction:rtl;line-height:300%;\">\n",
    "\t<font face=\"XB Zar\" size=4.5>\n",
    "\t\t<div align=center>\n",
    "\t\t\t<font face=\"IranNastaliq\" size=30>\n",
    "\t\t\t\t<p></p>\n",
    "\t\t\t\t<p></p>\n",
    "به نام خدا\n",
    "\t\t\t</font>\n",
    "\t\t\t<br />\n",
    "\t\t\t<br />\n",
    "\t\t\t<font color=#FF7983>\n",
    "دانشگاه تهران - دانشکده مهندسی برق و کامپیوتر\n",
    "            </font>\n",
    "            <br />\n",
    "\t\t\t<font color=midblue>\n",
    "هوش مصنوعی\n",
    "            </font>\n",
    "\t\t\t<br />\n",
    "           <font color=#738a9b> \n",
    "پاییز ۱۴۰۱\n",
    "               </div>\n",
    "\t\t<hr/>\n",
    "\t\t<font color='red' size=6>\n",
    "\t\t\t<div align=center>\n",
    "پروژه یک\n",
    "            </div>\n",
    "\t\t</font>\n",
    "        <br />\n",
    "\t\t<div align=center>\n",
    "بهیاد زرنقی \n",
    "            <br />\n",
    "            شماره دانشجویی: ۸۱۰۶۹۸۲۴۹\n",
    "        </div>\n",
    "\t\t<hr />\n",
    "\t\t<style type=\"text/css\" scoped>\n",
    "        p{\n",
    "        border: 1px solid #a2a9b1;background-color: #f8f9fa;display: inline-block;\n",
    "        };\n",
    "        </style>            \n",
    "\t\t\n",
    "</div>"
   ]
  },
  {
   "cell_type": "code",
   "execution_count": 110,
   "metadata": {},
   "outputs": [],
   "source": [
    "import pandas as pd\n",
    "import numpy as np\n",
    "import matplotlib.pyplot as plt\n",
    "import time"
   ]
  },
  {
   "cell_type": "markdown",
   "metadata": {},
   "source": [
    "At first we read the given text file."
   ]
  },
  {
   "cell_type": "code",
   "execution_count": 278,
   "metadata": {},
   "outputs": [],
   "source": [
    "input1=open('input3.txt','r')"
   ]
  },
  {
   "cell_type": "markdown",
   "metadata": {},
   "source": [
    "The inorder to organize data in the input and convert them to int type parameters, we impose some functions and operators to create an ideal list format file"
   ]
  },
  {
   "cell_type": "code",
   "execution_count": 279,
   "metadata": {},
   "outputs": [
    {
     "name": "stdout",
     "output_type": "stream",
     "text": [
      "['13 16', '1 13', '13 11', '11 7', '7 2', '2 6', '6 12', '12 5', '5 9', '1 4', '2 3', '3 10', '7 8', '10 5', '11 10', '9 2', '9 4', '2', '2 1', '3', '10 3 5 10 3', '4 3 3 11 2', '11 3 1 12 3', '13']\n"
     ]
    }
   ],
   "source": [
    "data = input1.readlines()\n",
    "input1.close()\n",
    "modified = list(map(str.strip, data))\n",
    "print(modified)"
   ]
  },
  {
   "cell_type": "code",
   "execution_count": 281,
   "metadata": {},
   "outputs": [],
   "source": [
    "def split_nums(s):\n",
    "    return  [int(x) for x in s.split()]"
   ]
  },
  {
   "cell_type": "code",
   "execution_count": 308,
   "metadata": {},
   "outputs": [],
   "source": [
    "list_of_nums = []\n",
    "for m in modified:\n",
    "    list_of_nums.append(split_nums(m))"
   ]
  },
  {
   "cell_type": "markdown",
   "metadata": {},
   "source": [
    "Here is the final list file:"
   ]
  },
  {
   "cell_type": "code",
   "execution_count": 307,
   "metadata": {},
   "outputs": [
    {
     "name": "stdout",
     "output_type": "stream",
     "text": [
      "[[13, 16], [1, 13], [13, 11], [11, 7], [7, 2], [2, 6], [6, 12], [12, 5], [5, 9], [1, 4], [2, 3], [3, 10], [7, 8], [10, 5], [11, 10], [9, 2], [9, 4], [2], [2, 1], [3], [10, 3, 5, 10, 3], [4, 3, 3, 11, 2], [11, 3, 1, 12, 3], [13]]\n"
     ]
    }
   ],
   "source": [
    "print(list_of_nums)"
   ]
  },
  {
   "cell_type": "markdown",
   "metadata": {},
   "source": [
    "In the class named Graph we have interpreted different properties of a graph tree including node name, connections between nodes, cooks & recepies and Impassable nodes which are needed in the search procedure"
   ]
  },
  {
   "cell_type": "code",
   "execution_count": 309,
   "metadata": {},
   "outputs": [],
   "source": [
    "class Graph():\n",
    "    def __init__(self):\n",
    "        self.Node()\n",
    "        self.Connections()\n",
    "        self.Impassables()\n",
    "        self.Cooks()\n",
    "        self.Start()\n",
    "        \n",
    "    def Node(self):\n",
    "        self.name=np.zeros([1,list_of_nums[0][0]]).astype('int32')\n",
    "        for i in range(list_of_nums[0][0]):\n",
    "            self.name[0,i]=i+1\n",
    "        return self.name \n",
    "    \n",
    "    def Connections(self):\n",
    "        self.cnct=np.zeros([list_of_nums[0][1]+5,list_of_nums[0][0]]).astype('int32')\n",
    "        self.cnct[0][:]=np.linspace(1,list_of_nums[0][0],list_of_nums[0][0])\n",
    "        for j in range (list_of_nums[0][0]):\n",
    "            for i in range (list_of_nums[0][1]):\n",
    "                if (list_of_nums[i+1][0]==j+1):\n",
    "                    self.cnct[i+1][j]=list_of_nums[i+1][1]\n",
    "                if (list_of_nums[i+1][1]==j+1):\n",
    "                    self.cnct[i+1][j]=list_of_nums[i+1][0]\n",
    "        return self.cnct\n",
    "    \n",
    "    def Impassables(self):\n",
    "        self.imp=np.zeros(list_of_nums[list_of_nums[0][1]+1]).astype('int32')\n",
    "        for i in range(list_of_nums[list_of_nums[0][1]+1][0]):\n",
    "            self.imp[i]=list_of_nums[list_of_nums[0][1]+2][i]\n",
    "        return self.imp\n",
    "    \n",
    "    def Cooks(self):\n",
    "        self.cks = list_of_nums[list_of_nums[0][1]+3][0]\n",
    "        self.ck = []\n",
    "        self.recepies = {}\n",
    "        self.RCP=[]\n",
    "        self.rcps=0\n",
    "        for i in range(1, self.cks+1):\n",
    "            self.ck.append(list_of_nums[list_of_nums[0][1]+3+i][0])\n",
    "            self.recepies[self.ck[i-1]] = list_of_nums[list_of_nums[0][1]+3+i][2:]\n",
    "            for r in list_of_nums[list_of_nums[0][1]+3+i][2:]:\n",
    "                self.RCP.append(r)\n",
    "\n",
    "            self.rcps+=list_of_nums[list_of_nums[0][1]+3+i][1]\n",
    "        return self.recepies\n",
    "    def Start(self):\n",
    "        self.strt=list_of_nums[list_of_nums[0][1]+self.cks+4][0]\n",
    "        return self.strt"
   ]
  },
  {
   "cell_type": "code",
   "execution_count": 311,
   "metadata": {},
   "outputs": [],
   "source": [
    "vrtx = Graph()"
   ]
  },
  {
   "cell_type": "markdown",
   "metadata": {},
   "source": [
    "Also the Node parameter has been defined exclussively inorder to explain items like paths,Father of the current node, path , hueristic and... to perform required serach algoritms in further steps."
   ]
  },
  {
   "cell_type": "code",
   "execution_count": 398,
   "metadata": {},
   "outputs": [],
   "source": [
    "class Node():\n",
    "    def __init__(self, name, path, father, isRoot:bool=False):\n",
    "        self.name = name\n",
    "        self.isRoot = isRoot\n",
    "        self.father = father\n",
    "        if isRoot:\n",
    "            self.path = str(name)\n",
    "            self.cost = 0\n",
    "            self.Lpath = [int(name)]\n",
    "            self.heuristic=vrtx.cks+vrtx.rcps\n",
    "            self.f= self.cost+self.heuristic\n",
    "            self.f1= self.cost+0.9*self.heuristic\n",
    "            self.f2= self.cost+0.8*self.heuristic\n",
    "        else:\n",
    "            self.path = path + ', ' + str(name)\n",
    "            self.depth = self.path.count(', ')\n",
    "            self.cost = self.depth\n",
    "            self.Lpath=[int(x) for x in self.path.split(', ')]\n",
    "            self.h1=len(list(set(vrtx.ck) & set(self.Lpath)))\n",
    "            self.h2=len(list(set(vrtx.RCP) & set(self.Lpath)))\n",
    "            self.heuristic=vrtx.cks+vrtx.rcps-(self.h1+self.h2)\n",
    "            self.f= self.cost+self.heuristic\n",
    "            self.f1= self.cost+8*self.heuristic\n",
    "            self.f2= self.cost+80*self.heuristic\n",
    "        \n",
    "        \n",
    "    def __str__(self):\n",
    "        return self.path\n",
    "    def __eq__(self, other):\n",
    "        if other is not Node:\n",
    "            return False\n",
    "        return self.path == other.path\n",
    "    def __hash__(self):\n",
    "        return hash(self.path)"
   ]
  },
  {
   "cell_type": "markdown",
   "metadata": {},
   "source": []
  },
  {
   "cell_type": "code",
   "execution_count": 399,
   "metadata": {},
   "outputs": [],
   "source": [
    "def is_goal(node):\n",
    "    global vrtx\n",
    "    rpath = node.path.split(', ')\n",
    "    path = rpath.copy()\n",
    "    rpath.reverse()\n",
    "    path = list(map(int, path))\n",
    "    rpath = list(map(int, rpath))\n",
    "    for c in vrtx.ck:\n",
    "        for r in vrtx.recepies[c]:\n",
    "            if r not in path:\n",
    "                return False\n",
    "    for c in vrtx.ck:\n",
    "        if c not in path:\n",
    "            return False\n",
    "    for c in vrtx.ck:\n",
    "        for r in vrtx.recepies[c]:\n",
    "            idx_c = len(rpath) - rpath.index(c) - 1\n",
    "            idx_r = path.index(r)\n",
    "            if idx_r > idx_c:\n",
    "                return False\n",
    "    return True"
   ]
  },
  {
   "cell_type": "markdown",
   "metadata": {},
   "source": [
    "# BFS Search Alghoritm"
   ]
  },
  {
   "cell_type": "code",
   "execution_count": 321,
   "metadata": {},
   "outputs": [],
   "source": [
    "from collections import deque\n",
    "i=0\n",
    "def BFS(class_type):\n",
    "    count = 0\n",
    "    G=class_type\n",
    "    Queue= deque([])\n",
    "    Explored=set()\n",
    "    root = Node(G.strt, \"\", None, True)\n",
    "    Queue.append(root)\n",
    "    Explored.add(root)\n",
    "    Impassables=list()\n",
    "    counter=0\n",
    "\n",
    "    while Queue:          # Creating loop to visit each node\n",
    "        m = Queue.popleft() \n",
    "        if is_goal(m):\n",
    "            print('Number of states visited:',counter)\n",
    "            print('Path:', m.path)\n",
    "            return m\n",
    "        for neighbour in G.cnct[1: , m.name-1]:\n",
    "            if neighbour != 0:\n",
    "                neighbour_node = Node(neighbour, m.path, m.name)\n",
    "                if neighbour_node not in Explored and neighbour != m.father:\n",
    "                    counter+=1\n",
    "                    Explored.add(neighbour_node)\n",
    "                    Queue.append(neighbour_node)\n",
    "#                     print(m.path)\n",
    "                    if neighbour in G.imp and neighbour in m.Lpath:\n",
    "                        Impassables.append(neighbour)\n",
    "                        c=Impassables.count(neighbour)\n",
    "                        for j in range(c-1):\n",
    "                           Explored.add(None)\n",
    "                \n",
    "    return False"
   ]
  },
  {
   "cell_type": "code",
   "execution_count": 400,
   "metadata": {},
   "outputs": [
    {
     "name": "stdout",
     "output_type": "stream",
     "text": [
      "Number of states visited: 1412\n",
      "Path: 13, 1, 4, 9, 5, 12, 6, 2, 3, 10, 11, 13, 1, 4\n",
      "Wall time: 127 ms\n"
     ]
    },
    {
     "data": {
      "text/plain": [
       "<__main__.Node at 0x258c64038e0>"
      ]
     },
     "execution_count": 400,
     "metadata": {},
     "output_type": "execute_result"
    }
   ],
   "source": [
    "%%time\n",
    "(BFS(Graph()))\n"
   ]
  },
  {
   "cell_type": "code",
   "execution_count": 342,
   "metadata": {},
   "outputs": [],
   "source": [
    "Impassables=list()\n",
    "exp=list()\n",
    "def DLS(class_type, node, depth_limit):\n",
    "    G=class_type\n",
    "    Explored=set()\n",
    "    if is_goal(node):\n",
    "        return node\n",
    "    if depth_limit==0:\n",
    "        return 0\n",
    "    \n",
    "    flag = False\n",
    "    for neighbour in G.cnct[1: , node.name-1]:\n",
    "        if neighbour != 0 and neighbour!=node.father:\n",
    "            exp.append(neighbour)\n",
    "#                 print(neighbour)\n",
    "            neighbour_node = Node(neighbour, node.path, node.name)\n",
    "#             print(neighbour_node.path)\n",
    "            if neighbour in G.imp and neighbour in neighbour_node.Lpath:\n",
    "                    Impassables.append(neighbour)\n",
    "                    c=Impassables.count(neighbour)\n",
    "                    for j in range(c-1):\n",
    "                        Explored.add(None)\n",
    "            res = DLS(class_type, neighbour_node, depth_limit-1)\n",
    "            if res == 0:\n",
    "                flag = True\n",
    "            elif res != -1:\n",
    "                return res\n",
    "            \n",
    "    if flag:\n",
    "        return 0\n",
    "    else:\n",
    "        return -1\n",
    "                    \n",
    "    \n",
    "def IDS(class_type):\n",
    "    root = Node(vrtx.strt, \"\", None, True)\n",
    "    for depth_limit in (range(20)):\n",
    "        result = DLS(class_type, root, depth_limit)\n",
    "        if type(result) == Node:\n",
    "            print('Number of states visited:', len(exp))\n",
    "            print('Path:', result)\n",
    "            break"
   ]
  },
  {
   "cell_type": "code",
   "execution_count": 343,
   "metadata": {},
   "outputs": [
    {
     "name": "stdout",
     "output_type": "stream",
     "text": [
      "Number of states visited: 2455\n",
      "Path: 13, 1, 4, 9, 5, 12, 6, 2, 3, 10, 11, 13, 1, 4\n",
      "Wall time: 172 ms\n"
     ]
    }
   ],
   "source": [
    "%%time\n",
    "IDS(Graph())"
   ]
  },
  {
   "cell_type": "markdown",
   "metadata": {},
   "source": [
    "# A*"
   ]
  },
  {
   "attachments": {},
   "cell_type": "markdown",
   "metadata": {},
   "source": [
    "as a heuristic we chose the remaining number of Cooks and Recepies which are not visited in the current path. Moreover, each path between two nodes has a cost of one."
   ]
  },
  {
   "cell_type": "code",
   "execution_count": 316,
   "metadata": {},
   "outputs": [],
   "source": [
    "from collections import deque\n",
    "i=0\n",
    "def A_Star(class_type):\n",
    "    G=class_type\n",
    "    Queue= deque([])\n",
    "    Queue1= deque([])\n",
    "    Explored=set()\n",
    "    root = Node(G.strt, \"\", None, True)\n",
    "    Queue.append(root)\n",
    "    Queue1.append(root)\n",
    "    Explored.add(root)\n",
    "    neighbour_nodes=list()\n",
    "    Impassables=list()\n",
    "    counter=0\n",
    "\n",
    "\n",
    "    while Queue:          # Creating loop to visit each node\n",
    "        m = Queue1.pop()\n",
    "#         print(m.path)\n",
    "\n",
    "        if is_goal(m):\n",
    "            print('Number of states visited:',counter)\n",
    "            print('Path:', m.path)\n",
    "            return m\n",
    "        for neighbour in G.cnct[1: , m.name-1]:\n",
    "            if neighbour != 0:\n",
    "                neighbour_node= Node(neighbour, m.path, m.name)\n",
    "                neighbour_nodes.append(neighbour_node)\n",
    "                if neighbour_node not in Explored and neighbour != m.father:\n",
    "                    Explored.add(neighbour_node)\n",
    "                    Queue.append(neighbour_node)\n",
    "                    counter+=1\n",
    "\n",
    "#                     print(m.path)\n",
    "#                     print(m.f)\n",
    "            if neighbour in G.imp and neighbour in m.Lpath:\n",
    "                Impassables.append(neighbour)\n",
    "                c=Impassables.count(neighbour)\n",
    "                for j in range(c-1):\n",
    "                    Explored.add(None)\n",
    "                    \n",
    "        Min=Queue[0].f\n",
    "        for n in Queue:\n",
    "            if n.f<=Min:\n",
    "                Min=n.f\n",
    "                best=n\n",
    "        if best in Queue and best.f==Min:        \n",
    "            Queue.remove(best)        \n",
    "            Queue1.append(best)                           \n",
    "    \n",
    "    return False                \n",
    "                    \n",
    "#                     print(m.path)\n",
    "               "
   ]
  },
  {
   "cell_type": "code",
   "execution_count": 391,
   "metadata": {},
   "outputs": [
    {
     "name": "stdout",
     "output_type": "stream",
     "text": [
      "Number of states visited: 1135\n",
      "Path: 13, 1, 4, 9, 5, 12, 6, 2, 3, 10, 11, 13, 1, 4\n",
      "Wall time: 141 ms\n"
     ]
    },
    {
     "data": {
      "text/plain": [
       "<__main__.Node at 0x258c64d3370>"
      ]
     },
     "execution_count": 391,
     "metadata": {},
     "output_type": "execute_result"
    }
   ],
   "source": [
    "%%time\n",
    "(A_Star(Graph()))"
   ]
  },
  {
   "cell_type": "code",
   "execution_count": 266,
   "metadata": {},
   "outputs": [],
   "source": [
    "from collections import deque\n",
    "i=0\n",
    "def A_star1(class_type):\n",
    "    G=class_type\n",
    "    Queue= deque([])\n",
    "    Queue1= deque([])\n",
    "    Explored=set()\n",
    "    root = Node(G.strt, \"\", None, True)\n",
    "    Queue.append(root)\n",
    "    Queue1.append(root)\n",
    "    Explored.add(root)\n",
    "    neighbour_nodes=list()\n",
    "    Impassables=list()\n",
    "    counter=0\n",
    "\n",
    "\n",
    "    while Queue:          # Creating loop to visit each node\n",
    "        m = Queue1.pop()\n",
    "#         print(m.path)\n",
    "\n",
    "        if is_goal(m):\n",
    "            print('Number of states visited:',counter)\n",
    "            print('Path:', m.path)\n",
    "            return m\n",
    "        for neighbour in G.cnct[1: , m.name-1]:\n",
    "            if neighbour != 0:\n",
    "                neighbour_node= Node(neighbour, m.path, m.name)\n",
    "                neighbour_nodes.append(neighbour_node)\n",
    "                if neighbour_node not in Explored and neighbour != m.father:\n",
    "                    Explored.add(neighbour_node)\n",
    "                    Queue.append(neighbour_node)\n",
    "                    counter+=1\n",
    "\n",
    "\n",
    "            if neighbour in G.imp and neighbour in m.Lpath:\n",
    "                Impassables.append(neighbour)\n",
    "                c=Impassables.count(neighbour)\n",
    "                for j in range(c-1):\n",
    "                    Explored.add(None)\n",
    "                    \n",
    "        Min=Queue[0].f1\n",
    "        for n in Queue:\n",
    "            if n.f1<=Min:\n",
    "                Min=n.f1\n",
    "                best=n\n",
    "        if best in Queue and best.f1==Min:        \n",
    "            Queue.remove(best)        \n",
    "            Queue1.append(best)                           \n",
    "    \n",
    "    return False                \n",
    "                    \n",
    "#                     print(m.path)\n",
    "               "
   ]
  },
  {
   "cell_type": "code",
   "execution_count": 394,
   "metadata": {},
   "outputs": [
    {
     "name": "stdout",
     "output_type": "stream",
     "text": [
      "Number of states visited: 27\n",
      "Path: 13, 11, 10, 5, 12, 6, 2, 3, 10, 5, 9, 4, 1, 13, 11\n",
      "Wall time: 7 ms\n"
     ]
    },
    {
     "data": {
      "text/plain": [
       "<__main__.Node at 0x258c64b0430>"
      ]
     },
     "execution_count": 394,
     "metadata": {},
     "output_type": "execute_result"
    }
   ],
   "source": [
    "%%time\n",
    "(A_star1(Graph()))"
   ]
  },
  {
   "cell_type": "code",
   "execution_count": 270,
   "metadata": {},
   "outputs": [],
   "source": [
    "from collections import deque\n",
    "i=0\n",
    "def A_star2(class_type):\n",
    "    G=class_type\n",
    "    Queue= deque([])\n",
    "    Queue1= deque([])\n",
    "    Explored=set()\n",
    "    root = Node(G.strt, \"\", None, True)\n",
    "    Queue.append(root)\n",
    "    Queue1.append(root)\n",
    "    Explored.add(root)\n",
    "    neighbour_nodes=list()\n",
    "    Impassables=list()\n",
    "    counter=0\n",
    "\n",
    "\n",
    "    while Queue:          # Creating loop to visit each node\n",
    "        m = Queue1.pop()\n",
    "#         print(m.path)\n",
    "\n",
    "        if is_goal(m):\n",
    "            print('Number of states visited:',counter)\n",
    "            print('Path:', m.path)\n",
    "            return m\n",
    "        for neighbour in G.cnct[1: , m.name-1]:\n",
    "            if neighbour != 0:\n",
    "                neighbour_node= Node(neighbour, m.path, m.name)\n",
    "                neighbour_nodes.append(neighbour_node)\n",
    "                if neighbour_node not in Explored and neighbour != m.father:\n",
    "                    Explored.add(neighbour_node)\n",
    "                    Queue.append(neighbour_node)\n",
    "                    counter+=1\n",
    "\n",
    "\n",
    "            if neighbour in G.imp and neighbour in m.Lpath:\n",
    "                Impassables.append(neighbour)\n",
    "                c=Impassables.count(neighbour)\n",
    "                for j in range(c-1):\n",
    "                    Explored.add(None)\n",
    "                    \n",
    "        Min=Queue[0].f2\n",
    "        for n in Queue:\n",
    "            if n.f2<=Min:\n",
    "                Min=n.f2\n",
    "                best=n\n",
    "        if best in Queue and best.f2==Min:        \n",
    "            Queue.remove(best)        \n",
    "            Queue1.append(best)                           \n",
    "    \n",
    "    return False "
   ]
  },
  {
   "cell_type": "code",
   "execution_count": 397,
   "metadata": {},
   "outputs": [
    {
     "name": "stdout",
     "output_type": "stream",
     "text": [
      "Number of states visited: 27\n",
      "Path: 13, 11, 10, 5, 12, 6, 2, 3, 10, 5, 9, 4, 1, 13, 11\n",
      "Wall time: 4 ms\n"
     ]
    },
    {
     "data": {
      "text/plain": [
       "<__main__.Node at 0x258c64b0f10>"
      ]
     },
     "execution_count": 397,
     "metadata": {},
     "output_type": "execute_result"
    }
   ],
   "source": [
    "%%time\n",
    "(A_star2(Graph()))"
   ]
  },
  {
   "cell_type": "markdown",
   "metadata": {},
   "source": [
    "### Results: First TestCase\n",
    "\n",
    "| Search Algoritm | Number of Explored States | Time | Path |\n",
    "| --- | --- | --- | --- |\n",
    "| BFS | 500 |  46ms |  1, 3, 4, 5, 7, 10, 11, 9, 8  |\n",
    "| IDS | 529 | 42ms |  1, 3, 4, 5, 7, 10, 11, 9, 8  |\n",
    "| A* | 267 | 44ms |  1, 3, 4, 5, 7, 10, 11, 9, 8 |\n",
    "| WeightedA* 1 | 23 | 3ms |  1, 3, 10, 11, 9, 8, 7, 5, 4, 8  | \n",
    "| WeightedA* 2 | 23 | 3ms |  1, 3, 10, 11, 9, 8, 7, 5, 4, 8   |\n"
   ]
  },
  {
   "cell_type": "markdown",
   "metadata": {},
   "source": [
    "### Results: Second TestCase\n",
    "\n",
    "| Search Algoritm | Number of Explored States | Time | Path |\n",
    "| --- | --- | --- | --- |\n",
    "| BFS | 752 |  63ms |  9, 10, 6, 4, 12, 3, 7, 5, 8  |\n",
    "| IDS | 890 | 57ms |  9, 10, 6, 4, 12, 3, 7, 5, 8  |\n",
    "| A* | 114 | 19ms |  9, 10, 6, 4, 12, 3, 7, 5, 8  |\n",
    "| WeightedA* 1 | 108 | 18ms |  9, 10, 8, 5, 7, 3, 12, 4, 6, 10, 8, 5, 7   | \n",
    "| WeightedA* 2 | 108 | 18ms |  9, 10, 8, 5, 7, 3, 12, 4, 6, 10, 8, 5, 7   |\n"
   ]
  },
  {
   "cell_type": "markdown",
   "metadata": {},
   "source": [
    "### Results: Third TestCase\n",
    "\n",
    "| Search Algoritm | Number of Explored States | Time | Path |\n",
    "| --- | --- | --- | --- |\n",
    "| BFS | 1412 |  148ms |  13, 1, 4, 9, 5, 12, 6, 2, 3, 10, 11, 13, 1, 4  |\n",
    "| IDS | 2455 | 140ms |  13, 1, 4, 9, 5, 12, 6, 2, 3, 10, 11, 13, 1, 4  |\n",
    "| A* | 1135 | 134ms |  13, 1, 4, 9, 5, 12, 6, 2, 3, 10, 11, 13, 1, 4  | -->\n",
    "| WeightedA* 1 | 27 | 5.6ms |  13, 11, 10, 5, 12, 6, 2, 3, 10, 5, 9, 4, 1, 13, 11  | \n",
    "| WeightedA* 2 | 27 | 5ms |  13, 11, 10, 5, 12, 6, 2, 3, 10, 5, 9, 4, 1, 13, 11   |\n"
   ]
  }
 ],
 "metadata": {
  "kernelspec": {
   "display_name": "Python 3",
   "language": "python",
   "name": "python3"
  },
  "language_info": {
   "codemirror_mode": {
    "name": "ipython",
    "version": 3
   },
   "file_extension": ".py",
   "mimetype": "text/x-python",
   "name": "python",
   "nbconvert_exporter": "python",
   "pygments_lexer": "ipython3",
   "version": "3.8.5"
  }
 },
 "nbformat": 4,
 "nbformat_minor": 4
}
